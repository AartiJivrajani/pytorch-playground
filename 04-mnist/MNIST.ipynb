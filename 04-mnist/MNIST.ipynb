{
 "cells": [
  {
   "cell_type": "code",
   "execution_count": 1,
   "metadata": {
    "collapsed": false
   },
   "outputs": [
    {
     "name": "stdout",
     "output_type": "stream",
     "text": [
      "Train Epoch: 0 [6400/60000\t(11%)]\tLoss: 0.483451\n",
      "Train Epoch: 0 [12800/60000\t(21%)]\tLoss: 0.208532\n",
      "Train Epoch: 0 [19200/60000\t(32%)]\tLoss: 0.215236\n",
      "Train Epoch: 0 [25600/60000\t(43%)]\tLoss: 0.116398\n",
      "Train Epoch: 0 [32000/60000\t(53%)]\tLoss: 0.448618\n",
      "Train Epoch: 0 [38400/60000\t(64%)]\tLoss: 0.151206\n",
      "Train Epoch: 0 [44800/60000\t(75%)]\tLoss: 0.070986\n",
      "Train Epoch: 0 [51200/60000\t(85%)]\tLoss: 0.053604\n",
      "Train Epoch: 0 [57600/60000\t(96%)]\tLoss: 0.120427\n",
      "Train Epoch: 1 [6400/60000\t(11%)]\tLoss: 0.099123\n",
      "Train Epoch: 1 [12800/60000\t(21%)]\tLoss: 0.141687\n",
      "Train Epoch: 1 [19200/60000\t(32%)]\tLoss: 0.184656\n",
      "Train Epoch: 1 [25600/60000\t(43%)]\tLoss: 0.021594\n",
      "Train Epoch: 1 [32000/60000\t(53%)]\tLoss: 0.143504\n",
      "Train Epoch: 1 [38400/60000\t(64%)]\tLoss: 0.071910\n",
      "Train Epoch: 1 [44800/60000\t(75%)]\tLoss: 0.232344\n",
      "Train Epoch: 1 [51200/60000\t(85%)]\tLoss: 0.136640\n",
      "Train Epoch: 1 [57600/60000\t(96%)]\tLoss: 0.082231\n",
      "Train Epoch: 2 [6400/60000\t(11%)]\tLoss: 0.061004\n",
      "Train Epoch: 2 [12800/60000\t(21%)]\tLoss: 0.054852\n",
      "Train Epoch: 2 [19200/60000\t(32%)]\tLoss: 0.097915\n",
      "Train Epoch: 2 [25600/60000\t(43%)]\tLoss: 0.107661\n",
      "Train Epoch: 2 [32000/60000\t(53%)]\tLoss: 0.039232\n",
      "Train Epoch: 2 [38400/60000\t(64%)]\tLoss: 0.051754\n",
      "Train Epoch: 2 [44800/60000\t(75%)]\tLoss: 0.075794\n",
      "Train Epoch: 2 [51200/60000\t(85%)]\tLoss: 0.024402\n",
      "Train Epoch: 2 [57600/60000\t(96%)]\tLoss: 0.056632\n",
      "Train Epoch: 3 [6400/60000\t(11%)]\tLoss: 0.010195\n",
      "Train Epoch: 3 [12800/60000\t(21%)]\tLoss: 0.012516\n",
      "Train Epoch: 3 [19200/60000\t(32%)]\tLoss: 0.050965\n",
      "Train Epoch: 3 [25600/60000\t(43%)]\tLoss: 0.031333\n",
      "Train Epoch: 3 [32000/60000\t(53%)]\tLoss: 0.008580\n",
      "Train Epoch: 3 [38400/60000\t(64%)]\tLoss: 0.007719\n",
      "Train Epoch: 3 [44800/60000\t(75%)]\tLoss: 0.041032\n",
      "Train Epoch: 3 [51200/60000\t(85%)]\tLoss: 0.088768\n",
      "Train Epoch: 3 [57600/60000\t(96%)]\tLoss: 0.060744\n",
      "Train Epoch: 4 [6400/60000\t(11%)]\tLoss: 0.022694\n",
      "Train Epoch: 4 [12800/60000\t(21%)]\tLoss: 0.049166\n",
      "Train Epoch: 4 [19200/60000\t(32%)]\tLoss: 0.058563\n",
      "Train Epoch: 4 [25600/60000\t(43%)]\tLoss: 0.016994\n",
      "Train Epoch: 4 [32000/60000\t(53%)]\tLoss: 0.011743\n",
      "Train Epoch: 4 [38400/60000\t(64%)]\tLoss: 0.014401\n",
      "Train Epoch: 4 [44800/60000\t(75%)]\tLoss: 0.020132\n",
      "Train Epoch: 4 [51200/60000\t(85%)]\tLoss: 0.151642\n",
      "Train Epoch: 4 [57600/60000\t(96%)]\tLoss: 0.035147\n",
      "Train Epoch: 5 [6400/60000\t(11%)]\tLoss: 0.004577\n",
      "Train Epoch: 5 [12800/60000\t(21%)]\tLoss: 0.050940\n",
      "Train Epoch: 5 [19200/60000\t(32%)]\tLoss: 0.065687\n",
      "Train Epoch: 5 [25600/60000\t(43%)]\tLoss: 0.008628\n",
      "Train Epoch: 5 [32000/60000\t(53%)]\tLoss: 0.037360\n",
      "Train Epoch: 5 [38400/60000\t(64%)]\tLoss: 0.003451\n",
      "Train Epoch: 5 [44800/60000\t(75%)]\tLoss: 0.007582\n",
      "Train Epoch: 5 [51200/60000\t(85%)]\tLoss: 0.072976\n",
      "Train Epoch: 5 [57600/60000\t(96%)]\tLoss: 0.031143\n",
      "Train Epoch: 6 [6400/60000\t(11%)]\tLoss: 0.021334\n",
      "Train Epoch: 6 [12800/60000\t(21%)]\tLoss: 0.056560\n",
      "Train Epoch: 6 [19200/60000\t(32%)]\tLoss: 0.019631\n",
      "Train Epoch: 6 [25600/60000\t(43%)]\tLoss: 0.027081\n",
      "Train Epoch: 6 [32000/60000\t(53%)]\tLoss: 0.050402\n",
      "Train Epoch: 6 [38400/60000\t(64%)]\tLoss: 0.001817\n",
      "Train Epoch: 6 [44800/60000\t(75%)]\tLoss: 0.027218\n",
      "Train Epoch: 6 [51200/60000\t(85%)]\tLoss: 0.042042\n",
      "Train Epoch: 6 [57600/60000\t(96%)]\tLoss: 0.003567\n",
      "Train Epoch: 7 [6400/60000\t(11%)]\tLoss: 0.001811\n",
      "Train Epoch: 7 [12800/60000\t(21%)]\tLoss: 0.009603\n",
      "Train Epoch: 7 [19200/60000\t(32%)]\tLoss: 0.007707\n",
      "Train Epoch: 7 [25600/60000\t(43%)]\tLoss: 0.016223\n",
      "Train Epoch: 7 [32000/60000\t(53%)]\tLoss: 0.057773\n",
      "Train Epoch: 7 [38400/60000\t(64%)]\tLoss: 0.000959\n",
      "Train Epoch: 7 [44800/60000\t(75%)]\tLoss: 0.057107\n",
      "Train Epoch: 7 [51200/60000\t(85%)]\tLoss: 0.046876\n",
      "Train Epoch: 7 [57600/60000\t(96%)]\tLoss: 0.067594\n",
      "Train Epoch: 8 [6400/60000\t(11%)]\tLoss: 0.010193\n",
      "Train Epoch: 8 [12800/60000\t(21%)]\tLoss: 0.010364\n",
      "Train Epoch: 8 [19200/60000\t(32%)]\tLoss: 0.031905\n",
      "Train Epoch: 8 [25600/60000\t(43%)]\tLoss: 0.002489\n",
      "Train Epoch: 8 [32000/60000\t(53%)]\tLoss: 0.038669\n",
      "Train Epoch: 8 [38400/60000\t(64%)]\tLoss: 0.055838\n",
      "Train Epoch: 8 [44800/60000\t(75%)]\tLoss: 0.006012\n",
      "Train Epoch: 8 [51200/60000\t(85%)]\tLoss: 0.024669\n",
      "Train Epoch: 8 [57600/60000\t(96%)]\tLoss: 0.024112\n",
      "Train Epoch: 9 [6400/60000\t(11%)]\tLoss: 0.005397\n",
      "Train Epoch: 9 [12800/60000\t(21%)]\tLoss: 0.007174\n",
      "Train Epoch: 9 [19200/60000\t(32%)]\tLoss: 0.003542\n",
      "Train Epoch: 9 [25600/60000\t(43%)]\tLoss: 0.046563\n",
      "Train Epoch: 9 [32000/60000\t(53%)]\tLoss: 0.022683\n",
      "Train Epoch: 9 [38400/60000\t(64%)]\tLoss: 0.010605\n",
      "Train Epoch: 9 [44800/60000\t(75%)]\tLoss: 0.002219\n",
      "Train Epoch: 9 [51200/60000\t(85%)]\tLoss: 0.013840\n",
      "Train Epoch: 9 [57600/60000\t(96%)]\tLoss: 0.026906\n"
     ]
    }
   ],
   "source": [
    "from __future__ import print_function\n",
    "import numpy as np\n",
    "import argparse\n",
    "import torch\n",
    "import torch.nn as nn\n",
    "import torch.nn.functional as F\n",
    "import torch.optim as optim\n",
    "from torchvision import datasets, transforms\n",
    "from sklearn.metrics import *\n",
    "from matplotlib import pyplot as plt\n",
    "%matplotlib inline\n",
    "\n",
    "class CNN(nn.Module):\n",
    "    def __init__(self):\n",
    "        super(CNN, self).__init__()\n",
    "        self.conv1 = nn.Conv2d(1, 20, 5, 1)\n",
    "        self.conv2 = nn.Conv2d(20, 50, 5, 1)\n",
    "        self.fc1 = nn.Linear(4*4*50, 500)\n",
    "        self.fc2 = nn.Linear(500, 10)\n",
    "\n",
    "    def forward(self, x):\n",
    "        x = F.relu(self.conv1(x))\n",
    "        x = F.max_pool2d(x, 2, 2)\n",
    "        x = F.relu(self.conv2(x))\n",
    "        x = F.max_pool2d(x, 2, 2)\n",
    "        x = x.view(-1, 4*4*50)\n",
    "        x = F.relu(self.fc1(x))\n",
    "        x = self.fc2(x)\n",
    "        return F.log_softmax(x, dim=1)\n",
    "    \n",
    "def train(model, device, train_loader, optimizer, epoch):\n",
    "    losses = []\n",
    "    model.train()\n",
    "    for batch_idx, (data, target) in enumerate(train_loader):\n",
    "        data, target = data.to(device), target.to(device)\n",
    "        optimizer.zero_grad()\n",
    "        output = model(data)\n",
    "        loss = F.nll_loss(output, target)\n",
    "        loss.backward()\n",
    "        optimizer.step()\n",
    "        losses.append(loss.item())\n",
    "        if batch_idx > 0 and batch_idx % 100 == 0:\n",
    "            print('Train Epoch: {} [{}/{}\\t({:.0f}%)]\\tLoss: {:.6f}'.format(\n",
    "                epoch, batch_idx * len(data), len(train_loader.dataset),\n",
    "                100. * batch_idx / len(train_loader), loss.item()))\n",
    "    return losses\n",
    "\n",
    "def test(model, device, test_loader):\n",
    "    model.eval()\n",
    "    test_loss = 0\n",
    "    correct = 0\n",
    "    with torch.no_grad():\n",
    "        for data, target in test_loader:\n",
    "            data, target = data.to(device), target.to(device)\n",
    "            output = model(data)\n",
    "            test_loss += F.nll_loss(output, target, reduction='sum').item() # sum up batch loss\n",
    "            pred = output.argmax(dim=1, keepdim=True) # get the index of the max log-probability\n",
    "            correct += pred.eq(target.view_as(pred)).sum().item()\n",
    "    test_loss /= len(test_loader.dataset)\n",
    "    print('\\nTest set: Average loss: {:.4f}, Accuracy: {}/{} ({:.0f}%)\\n'.format(\n",
    "        test_loss, correct, len(test_loader.dataset),\n",
    "        100. * correct / len(test_loader.dataset)))\n",
    "    return (float(correct) / len(test_loader.dataset))\n",
    "\n",
    "train_loader = torch.utils.data.DataLoader(\n",
    "    datasets.MNIST(\n",
    "        '../data',\n",
    "       train=True,\n",
    "       download=True,\n",
    "       transform=transforms.Compose([\n",
    "           transforms.ToTensor(),\n",
    "           transforms.Normalize((0.1307,), (0.3081,))\n",
    "       ])\n",
    "    ),\n",
    "    batch_size=64,\n",
    "    shuffle=True)\n",
    "test_loader = torch.utils.data.DataLoader(\n",
    "    datasets.MNIST(\n",
    "        '../data',\n",
    "        train=False,\n",
    "        transform=transforms.Compose([\n",
    "           transforms.ToTensor(),\n",
    "           transforms.Normalize((0.1307,), (0.3081,))\n",
    "        ])\n",
    "    ),\n",
    "    batch_size=1000,\n",
    "    shuffle=True)\n",
    "\n",
    "model = CNN()\n",
    "optimizer = optim.SGD(model.parameters(), lr=0.01, momentum=0.5)\n",
    "device = torch.device(\"cpu\") # or 'gpu'\n",
    "losses = []\n",
    "accuracies = []\n",
    "for epoch in range(0, 10):\n",
    "    losses.extend(train(model, device, train_loader, optimizer, epoch))\n",
    "    accuracies.append(test(model, device, train_loader))"
   ]
  },
  {
   "cell_type": "code",
   "execution_count": 2,
   "metadata": {
    "collapsed": false
   },
   "outputs": [
    {
     "data": {
      "text/plain": [
       "[<matplotlib.lines.Line2D at 0x111d79cc0>]"
      ]
     },
     "execution_count": 2,
     "metadata": {},
     "output_type": "execute_result"
    },
    {
     "data": {
      "image/png": "[encoded data removed]",
      "text/plain": [
       "<matplotlib.figure.Figure at 0x11220a710>"
      ]
     },
     "metadata": {},
     "output_type": "display_data"
    }
   ],
   "source": [
    "def mean(li): return sum(li)/len(li)\n",
    "plt.figure(figsize=(14, 4))\n",
    "plt.xlabel('training batch')\n",
    "plt.ylabel('loss')\n",
    "plt.plot([mean(losses[i:i+10]) for i in range(len(losses))])"
   ]
  },
  {
   "cell_type": "code",
   "execution_count": 5,
   "metadata": {
    "collapsed": false
   },
   "outputs": [
    {
     "data": {
      "text/plain": [
       "[<matplotlib.lines.Line2D at 0x12c987c88>]"
      ]
     },
     "execution_count": 5,
     "metadata": {},
     "output_type": "execute_result"
    },
    {
     "data": {
      "image/png": "[encoded data removed]",
      "text/plain": [
       "<matplotlib.figure.Figure at 0x128973198>"
      ]
     },
     "metadata": {},
     "output_type": "display_data"
    }
   ],
   "source": [
    "plt.figure(figsize=(14, 4))\n",
    "plt.xticks(range(len(accuracies)))\n",
    "plt.xlabel('training epoch')\n",
    "plt.ylabel('accuracy')\n",
    "plt.plot(accuracies, marker='o')"
   ]
  },
  {
   "cell_type": "code",
   "execution_count": 13,
   "metadata": {
    "collapsed": false
   },
   "outputs": [
    {
     "name": "stdout",
     "output_type": "stream",
     "text": [
      "Confusion matrix:\n",
      "[[ 973    0    0    0    0    0    4    1    2    0]\n",
      " [   0 1130    0    2    0    1    1    1    0    0]\n",
      " [   1    1 1024    0    2    0    1    2    1    0]\n",
      " [   0    0    0 1005    0    2    0    0    3    0]\n",
      " [   0    0    1    0  975    0    1    1    1    3]\n",
      " [   2    0    0   11    0  874    2    1    2    0]\n",
      " [   0    1    0    0    1    1  955    0    0    0]\n",
      " [   0    3    3    1    0    0    0 1019    1    1]\n",
      " [   0    0    1    1    0    1    0    0  970    1]\n",
      " [   0    2    0    6    7    2    0    4    1  987]]\n",
      "F1 score: 0.991200\n",
      "Accuracy score: 0.991200\n"
     ]
    }
   ],
   "source": [
    "def test_label_predictions(model, device, test_loader):\n",
    "    model.eval()\n",
    "    actuals = []\n",
    "    predictions = []\n",
    "    with torch.no_grad():\n",
    "        for data, target in test_loader:\n",
    "            data, target = data.to(device), target.to(device)\n",
    "            output = model(data)\n",
    "            prediction = output.argmax(dim=1, keepdim=True)\n",
    "            actuals.extend(target.view_as(prediction))\n",
    "            predictions.extend(prediction)\n",
    "    return [i.item() for i in actuals], [i.item() for i in predictions]\n",
    "\n",
    "actuals, predictions = test_label_predictions(model, device, test_loader)\n",
    "print('Confusion matrix:')\n",
    "print(confusion_matrix(actuals, predictions))\n",
    "print('F1 score: %f' % f1_score(actuals, predictions, average='micro'))\n",
    "print('Accuracy score: %f' % accuracy_score(actuals, predictions))"
   ]
  },
  {
   "cell_type": "code",
   "execution_count": 19,
   "metadata": {
    "collapsed": false
   },
   "outputs": [
    {
     "data": {
      "image/png": "[encoded data removed]",
      "text/plain": [
       "<matplotlib.figure.Figure at 0x12cf16d30>"
      ]
     },
     "metadata": {},
     "output_type": "display_data"
    }
   ],
   "source": [
    "def test_class_probabilities(model, device, test_loader, which_class):\n",
    "    model.eval()\n",
    "    actuals = []\n",
    "    probabilities = []\n",
    "    with torch.no_grad():\n",
    "        for data, target in test_loader:\n",
    "            data, target = data.to(device), target.to(device)\n",
    "            output = model(data)\n",
    "            prediction = output.argmax(dim=1, keepdim=True)\n",
    "            actuals.extend(target.view_as(prediction) == which_class)\n",
    "            probabilities.extend(np.exp(output[:, which_class]))\n",
    "    return [i.item() for i in actuals], [i.item() for i in probabilities]\n",
    "\n",
    "which_class = 9\n",
    "actuals, class_probabilities = test_class_probabilities(model, device, test_loader, which_class)\n",
    "\n",
    "fpr, tpr, _ = roc_curve(actuals, class_probabilities)\n",
    "roc_auc = auc(fpr, tpr)\n",
    "plt.figure()\n",
    "lw = 2\n",
    "plt.plot(fpr, tpr, color='darkorange',\n",
    "         lw=lw, label='ROC curve (area = %0.2f)' % roc_auc)\n",
    "plt.plot([0, 1], [0, 1], color='navy', lw=lw, linestyle='--')\n",
    "plt.xlim([0.0, 1.0])\n",
    "plt.ylim([0.0, 1.05])\n",
    "plt.xlabel('False Positive Rate')\n",
    "plt.ylabel('True Positive Rate')\n",
    "plt.title('ROC for digit=%d class' % which_class)\n",
    "plt.legend(loc=\"lower right\")\n",
    "plt.show()"
   ]
  },
  {
   "cell_type": "code",
   "execution_count": 53,
   "metadata": {
    "collapsed": false
   },
   "outputs": [
    {
     "name": "stdout",
     "output_type": "stream",
     "text": [
      "Trainable parameters:\n",
      "conv1.weight \t 500\n",
      "conv1.bias \t 20\n",
      "conv2.weight \t 25000\n",
      "conv2.bias \t 50\n",
      "fc1.weight \t 400000\n",
      "fc1.bias \t 500\n",
      "fc2.weight \t 5000\n",
      "fc2.bias \t 10\n"
     ]
    }
   ],
   "source": [
    "print('Trainable parameters:')\n",
    "for name, param in model.named_parameters():\n",
    "    if param.requires_grad:\n",
    "        print(name, '\\t',param.numel())"
   ]
  }
 ],
 "metadata": {
  "kernelspec": {
   "display_name": "Python 3",
   "language": "python",
   "name": "python3"
  },
  "language_info": {
   "codemirror_mode": {
    "name": "ipython",
    "version": 3
   },
   "file_extension": ".py",
   "mimetype": "text/x-python",
   "name": "python",
   "nbconvert_exporter": "python",
   "pygments_lexer": "ipython3",
   "version": "3.6.8"
  }
 },
 "nbformat": 4,
 "nbformat_minor": 2
}
